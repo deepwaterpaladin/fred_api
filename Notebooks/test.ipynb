{
 "cells": [
  {
   "cell_type": "code",
   "execution_count": null,
   "metadata": {},
   "outputs": [],
   "source": [
    "from delinquency import Delinquency\n",
    "import plotly.express as px\n",
    "import pandas as pd\n",
    "\n",
    "d=Delinquency()\n",
    "com = d.commercial_real_estate_loans()\n",
    "cc = d.credit_cards()\n",
    "mort = d.single_family_mortgages()\n",
    "otha = d.other_consumer_loans()\n",
    "df = pd.DataFrame({\"Credit Cards\":cc['Delinquency Rate'], \"Mortgages\":mort['Delinquency Rate'], \"Other Loans\":otha['Delinquency Rate']})\n",
    "fig = px.line(df).update_layout(title='Delinquencies, 2000 - 2022', legend_title='', )\n",
    "fig.update_xaxes(title='').update_yaxes(title='Delinquencies (%)')\n",
    "fig.show()\n"
   ]
  },
  {
   "cell_type": "code",
   "execution_count": null,
   "metadata": {},
   "outputs": [],
   "source": [
    "from uncertainty import *\n",
    "import plotly.express as px\n",
    "from stocks import *\n",
    "\n",
    "usa = UncertaintyIndex()\n",
    "stonks = SP500()\n",
    "test = {\"Economic Policy Uncertainty Index\":usa.EUI_USA()[\"Index\"], \"S&P 500\": stonks.get_index()[\"Index\"]}\n",
    "\n",
    "fig = px.line(test)\n",
    "fig.update_xaxes(rangeslider_visible=True,rangeselector=dict(buttons=list([dict(count=1, label=\"1m\", step=\"month\", stepmode=\"backward\"), dict(count=6, label=\"6m\", step=\"month\", stepmode=\"backward\"), dict(count=1, label=\"YTD\", step=\"year\", stepmode=\"todate\"), dict(count=1, label=\"1y\", step=\"year\", stepmode=\"backward\"), dict(step=\"all\")])))\n",
    "fig.show()"
   ]
  },
  {
   "cell_type": "code",
   "execution_count": null,
   "metadata": {},
   "outputs": [],
   "source": [
    "from hashlib import new\n",
    "from consumer_credit import Credit\n",
    "import pandas as pd\n",
    "import plotly.express as px\n",
    "\n",
    "c = Credit()\n",
    "\n",
    "owned_debt = pd.DataFrame({\"Federal\":c.fed_owned()['Billions of Dollars'], \"Credit Unions\": c.tcu_owned()['Billions of Dollars'], \"Nonfinancial Businesses\":c.nfc_owned()['Billions of Dollars'], \"Depository Institutions\": c.di_owned()['Billions of Dollars'], \"Finance Companies\":c.fc_owned()['Billions of Dollars']})\n",
    "\n",
    "fig = px.line(owned_debt).update_layout(title='Consumer Debt Ownership of Time', legend_title='', title_font_family=\"Raleway\")\n",
    "fig.update_xaxes(title='').update_yaxes(title='Billions of Dollars')\n",
    "fig.update_xaxes(rangeselector_font_family=\"Times New Roman\",rangeslider_visible=False,rangeselector=dict(buttons=list([dict(count=1, label=\"1m\", step=\"month\", stepmode=\"backward\"), dict(count=6, label=\"6m\", step=\"month\", stepmode=\"backward\"), dict(count=1, label=\"YTD\", step=\"year\", stepmode=\"todate\"), dict(count=1, label=\"1y\", step=\"year\", stepmode=\"backward\"), dict(step=\"all\")])))\n",
    "#fig.show()\n",
    "#print(owned_debt)\n",
    "\n",
    "neew = pd.DataFrame(owned_debt[\"Credit Unions\"].shape[0])\n",
    "neew[\"test\"] = owned_debt[\"Federal\"]<owned_debt[\"Credit Unions\"]\n",
    "print(neew)"
   ]
  },
  {
   "cell_type": "code",
   "execution_count": null,
   "metadata": {},
   "outputs": [],
   "source": [
    "from exchange_rate import *\n",
    "import plotly.express as px\n",
    "\n",
    "cad = SpotRate()\n",
    "f = pd.DataFrame({\"EURO\": cad.USD_EURO()['USD$ to One Euro'],\"GBP\": cad.USD_GBP()['USD$ to GBP']})\n",
    "fig = px.line(f).update_layout(title='U.S. Dollar Spot Exchange Rate', legend_title='', title_font_family=\"Raleway\")\n",
    "fig.update_xaxes(title='', rangeselector_font_family=\"Times New Roman\",rangeslider_visible=False,rangeselector=dict(buttons=list([dict(count=1, label=\"1m\", step=\"month\", stepmode=\"backward\"), dict(count=6, label=\"6m\", step=\"month\", stepmode=\"backward\"), dict(count=1, label=\"YTD\", step=\"year\", stepmode=\"todate\"), dict(count=1, label=\"1y\", step=\"year\", stepmode=\"backward\"), dict(step=\"all\")]))).update_yaxes(title='Canadian Dollars to One U.S. Dollar')\n",
    "fig.show()"
   ]
  },
  {
   "cell_type": "code",
   "execution_count": null,
   "metadata": {},
   "outputs": [],
   "source": [
    "from unemployment import *\n",
    "import plotly as px\n",
    "import pandas as pd\n",
    "t = Unemployment()\n",
    "p = pd.DataFrame({\"Non Seasonal Adjustment\":t.initial_claims(False)[\"Number\"], \"Seasonal Adjustment\":t.initial_claims()[\"Number\"]})\n",
    "print(p)"
   ]
  },
  {
   "cell_type": "code",
   "execution_count": null,
   "metadata": {},
   "outputs": [],
   "source": [
    "from bonds import *\n",
    "import plotly.express as px\n",
    "import pandas as pd\n",
    "\n",
    "c = CorporateBonds()\n",
    "daily = c.AAA('Daily')\n",
    "weekly = c.AAA('Weekly')\n",
    "monthly = c.AAA()\n",
    "f = pd.DataFrame({\"Corporate Bond Yield, Daily\":daily[\"Percent\"],\"Corporate Bond Yield, Monthly\":monthly[\"Percent\"]})\n",
    "fig = px.line(f).update_layout(title='Corporate Bond Yield Over Time', legend_title='', title_font_family=\"Raleway\")\n",
    "fig.update_xaxes(title='', rangeselector_font_family=\"Times New Roman\",rangeslider_visible=False,rangeselector=dict(buttons=list([dict(count=1, label=\"1m\", step=\"month\", stepmode=\"backward\"), dict(count=6, label=\"6m\", step=\"month\", stepmode=\"backward\"), dict(count=1, label=\"YTD\", step=\"year\", stepmode=\"todate\"), dict(count=1, label=\"1y\", step=\"year\", stepmode=\"backward\"), dict(step=\"all\")]))).update_yaxes(title='Percent')\n",
    "fig.show()"
   ]
  },
  {
   "cell_type": "code",
   "execution_count": null,
   "metadata": {},
   "outputs": [],
   "source": [
    "from commodities import Commodity\n",
    "import plotly.express as px\n",
    "import pandas as pd\n",
    "\n",
    "t = Commodity()\n",
    "\n",
    "zinc = t.zinc()\n",
    "fish = t.tin()\n",
    "c = t.shellfish()\n",
    "d = t.shellfish(True)\n",
    "fig = px.line(d)\n",
    "fig.update_xaxes(rangeslider_visible=True,rangeselector=dict(buttons=list([dict(count=1, label=\"1m\", step=\"month\", stepmode=\"backward\"), dict(count=6, label=\"6m\", step=\"month\", stepmode=\"backward\"), dict(count=1, label=\"YTD\", step=\"year\", stepmode=\"todate\"), dict(count=1, label=\"1y\", step=\"year\", stepmode=\"backward\"), dict(step=\"all\")])))\n",
    "fig.show()"
   ]
  },
  {
   "cell_type": "code",
   "execution_count": null,
   "metadata": {},
   "outputs": [],
   "source": [
    "from commodities import NaturalGas\n",
    "import plotly.express as px\n",
    "\n",
    "t = NaturalGas()\n",
    "spot = t.spot_price(observation_start='01/01/2022')\n",
    "#print(spot)\n",
    "fig = px.line(spot, y=f'{spot.columns[0]}', title='Natural Gas Spot Rate').update_xaxes(title='Year')\n",
    "fig.show()"
   ]
  },
  {
   "cell_type": "code",
   "execution_count": null,
   "metadata": {},
   "outputs": [],
   "source": [
    "from exchange_rate import *\n",
    "import plotly.express as px\n",
    "a = SpotRate()\n",
    "\n",
    "fig = px.line(a.CAD_USD(\"01/01/2021\")).update_layout(title='CAD x US Dollar Spot Exchange Rate', legend_title='', title_font_family=\"Raleway\")\n",
    "fig.update_xaxes(title='', rangeselector_font_family=\"Times New Roman\",rangeslider_visible=False,rangeselector=dict(buttons=list([dict(count=1, label=\"1m\", step=\"month\", stepmode=\"backward\"), dict(count=6, label=\"6m\", step=\"month\", stepmode=\"backward\"), dict(count=1, label=\"YTD\", step=\"year\", stepmode=\"todate\"), dict(count=1, label=\"1y\", step=\"year\", stepmode=\"backward\"), dict(step=\"all\")]))).update_yaxes(title='Canadian Dollars to One U.S. Dollar')\n",
    "fig.show()"
   ]
  },
  {
   "cell_type": "code",
   "execution_count": 15,
   "metadata": {},
   "outputs": [
    {
     "data": {
      "application/vnd.plotly.v1+json": {
       "config": {
        "plotlyServerURL": "https://plot.ly"
       },
       "data": [
        {
         "hovertemplate": "variable=Metal Index<br>index=%{x}<br>value=%{y}<extra></extra>",
         "legendgroup": "Metal Index",
         "line": {
          "color": "#636efa",
          "dash": "solid"
         },
         "marker": {
          "symbol": "circle"
         },
         "mode": "lines",
         "name": "Metal Index",
         "orientation": "v",
         "showlegend": true,
         "type": "scatter",
         "x": [
          "2016-01-01T00:00:00",
          "2016-02-01T00:00:00",
          "2016-03-01T00:00:00",
          "2016-04-01T00:00:00",
          "2016-05-01T00:00:00",
          "2016-06-01T00:00:00",
          "2016-07-01T00:00:00",
          "2016-08-01T00:00:00",
          "2016-09-01T00:00:00",
          "2016-10-01T00:00:00",
          "2016-11-01T00:00:00",
          "2016-12-01T00:00:00",
          "2017-01-01T00:00:00",
          "2017-02-01T00:00:00",
          "2017-03-01T00:00:00",
          "2017-04-01T00:00:00",
          "2017-05-01T00:00:00",
          "2017-06-01T00:00:00",
          "2017-07-01T00:00:00",
          "2017-08-01T00:00:00",
          "2017-09-01T00:00:00",
          "2017-10-01T00:00:00",
          "2017-11-01T00:00:00",
          "2017-12-01T00:00:00",
          "2018-01-01T00:00:00",
          "2018-02-01T00:00:00",
          "2018-03-01T00:00:00",
          "2018-04-01T00:00:00",
          "2018-05-01T00:00:00",
          "2018-06-01T00:00:00",
          "2018-07-01T00:00:00",
          "2018-08-01T00:00:00",
          "2018-09-01T00:00:00",
          "2018-10-01T00:00:00",
          "2018-11-01T00:00:00",
          "2018-12-01T00:00:00",
          "2019-01-01T00:00:00",
          "2019-02-01T00:00:00",
          "2019-03-01T00:00:00",
          "2019-04-01T00:00:00",
          "2019-05-01T00:00:00",
          "2019-06-01T00:00:00",
          "2019-07-01T00:00:00",
          "2019-08-01T00:00:00",
          "2019-09-01T00:00:00",
          "2019-10-01T00:00:00",
          "2019-11-01T00:00:00",
          "2019-12-01T00:00:00",
          "2020-01-01T00:00:00",
          "2020-02-01T00:00:00",
          "2020-03-01T00:00:00",
          "2020-04-01T00:00:00",
          "2020-05-01T00:00:00",
          "2020-06-01T00:00:00",
          "2020-07-01T00:00:00",
          "2020-08-01T00:00:00",
          "2020-09-01T00:00:00",
          "2020-10-01T00:00:00",
          "2020-11-01T00:00:00",
          "2020-12-01T00:00:00",
          "2021-01-01T00:00:00",
          "2021-02-01T00:00:00",
          "2021-03-01T00:00:00",
          "2021-04-01T00:00:00",
          "2021-05-01T00:00:00",
          "2021-06-01T00:00:00",
          "2021-07-01T00:00:00",
          "2021-08-01T00:00:00",
          "2021-09-01T00:00:00",
          "2021-10-01T00:00:00",
          "2021-11-01T00:00:00",
          "2021-12-01T00:00:00",
          "2022-01-01T00:00:00",
          "2022-02-01T00:00:00",
          "2022-03-01T00:00:00",
          "2022-04-01T00:00:00",
          "2022-05-01T00:00:00"
         ],
         "xaxis": "x",
         "y": [
          85.2590945144239,
          89.3216259264647,
          96.9201854154129,
          99.0668072401867,
          95.8293442515157,
          95.0139830457564,
          100.441018196048,
          102.240914481244,
          100.007225170534,
          101.129979036256,
          115.236430809222,
          119.533391912936,
          121.368344497015,
          128.723245227462,
          127.21434467125,
          116.892171289011,
          111.665433008529,
          109.860045332343,
          117.186914737698,
          127.01562782119,
          126.102736346403,
          124.233508544816,
          125.772876291506,
          130.229049472732,
          136.611508213754,
          137.619065520228,
          132.46644058924,
          133.89184750269,
          134.349342495601,
          135.314499108961,
          126.908341396209,
          125.099540790902,
          124.524515016066,
          127.684756620176,
          125.888494154108,
          123.089526759239,
          124.918610029016,
          134.632465960837,
          136.335395452349,
          139.583722754981,
          138.827981013912,
          141.335623626547,
          147.527668724086,
          133.364869578297,
          134.73112056274,
          131.997623585169,
          126.889522810725,
          131.214752549826,
          133.351218048382,
          126.002893843505,
          120.113802462517,
          115.192381539144,
          121.643466449552,
          132.113258297173,
          139.174676108818,
          148.90628730883,
          152.241923232378,
          151.180175363095,
          158.287369168318,
          179.930539018313,
          189.714856440036,
          193.529840360368,
          199.006165514132,
          207.910788898709,
          229.680325650715,
          237.407459601911,
          237.847613238549,
          212.325542921676,
          191.469689848775,
          195.740209399538,
          179.507184653125,
          190.199918746684,
          208.736944489521,
          216.478127208124,
          233.398090343282,
          231.396187658651,
          207.863672276099
         ],
         "yaxis": "y"
        },
        {
         "hovertemplate": "variable=Iron Ore<br>index=%{x}<br>value=%{y}<extra></extra>",
         "legendgroup": "Iron Ore",
         "line": {
          "color": "#EF553B",
          "dash": "solid"
         },
         "marker": {
          "symbol": "circle"
         },
         "mode": "lines",
         "name": "Iron Ore",
         "orientation": "v",
         "showlegend": true,
         "type": "scatter",
         "x": [
          "2016-01-01T00:00:00",
          "2016-02-01T00:00:00",
          "2016-03-01T00:00:00",
          "2016-04-01T00:00:00",
          "2016-05-01T00:00:00",
          "2016-06-01T00:00:00",
          "2016-07-01T00:00:00",
          "2016-08-01T00:00:00",
          "2016-09-01T00:00:00",
          "2016-10-01T00:00:00",
          "2016-11-01T00:00:00",
          "2016-12-01T00:00:00",
          "2017-01-01T00:00:00",
          "2017-02-01T00:00:00",
          "2017-03-01T00:00:00",
          "2017-04-01T00:00:00",
          "2017-05-01T00:00:00",
          "2017-06-01T00:00:00",
          "2017-07-01T00:00:00",
          "2017-08-01T00:00:00",
          "2017-09-01T00:00:00",
          "2017-10-01T00:00:00",
          "2017-11-01T00:00:00",
          "2017-12-01T00:00:00",
          "2018-01-01T00:00:00",
          "2018-02-01T00:00:00",
          "2018-03-01T00:00:00",
          "2018-04-01T00:00:00",
          "2018-05-01T00:00:00",
          "2018-06-01T00:00:00",
          "2018-07-01T00:00:00",
          "2018-08-01T00:00:00",
          "2018-09-01T00:00:00",
          "2018-10-01T00:00:00",
          "2018-11-01T00:00:00",
          "2018-12-01T00:00:00",
          "2019-01-01T00:00:00",
          "2019-02-01T00:00:00",
          "2019-03-01T00:00:00",
          "2019-04-01T00:00:00",
          "2019-05-01T00:00:00",
          "2019-06-01T00:00:00",
          "2019-07-01T00:00:00",
          "2019-08-01T00:00:00",
          "2019-09-01T00:00:00",
          "2019-10-01T00:00:00",
          "2019-11-01T00:00:00",
          "2019-12-01T00:00:00",
          "2020-01-01T00:00:00",
          "2020-02-01T00:00:00",
          "2020-03-01T00:00:00",
          "2020-04-01T00:00:00",
          "2020-05-01T00:00:00",
          "2020-06-01T00:00:00",
          "2020-07-01T00:00:00",
          "2020-08-01T00:00:00",
          "2020-09-01T00:00:00",
          "2020-10-01T00:00:00",
          "2020-11-01T00:00:00",
          "2020-12-01T00:00:00",
          "2021-01-01T00:00:00",
          "2021-02-01T00:00:00",
          "2021-03-01T00:00:00",
          "2021-04-01T00:00:00",
          "2021-05-01T00:00:00",
          "2021-06-01T00:00:00",
          "2021-07-01T00:00:00",
          "2021-08-01T00:00:00",
          "2021-09-01T00:00:00",
          "2021-10-01T00:00:00",
          "2021-11-01T00:00:00",
          "2021-12-01T00:00:00",
          "2022-01-01T00:00:00",
          "2022-02-01T00:00:00",
          "2022-03-01T00:00:00",
          "2022-04-01T00:00:00",
          "2022-05-01T00:00:00"
         ],
         "xaxis": "x",
         "y": [
          42.2047619047619,
          46.4857142857143,
          56.5391304347826,
          60.9666666666667,
          55.8863636363636,
          52.3409090909091,
          57.3095238095238,
          60.8695652173913,
          57.6590909090909,
          58.9523809523809,
          74.1363636363636,
          79.4318181818182,
          80.8181818181818,
          88.95,
          87.195652173913,
          70.4,
          61.6304347826087,
          57.8636363636364,
          66.7380952380952,
          74.5869565217391,
          69.2380952380952,
          61.0454545454545,
          63.4090909090909,
          71.7380952380952,
          75.7826086956522,
          77.65,
          71.3181818181818,
          66.3333333333333,
          66.6304347826087,
          66.8571428571429,
          67.0454545454545,
          68.0217391304348,
          68.8,
          72.0217391304348,
          72.2954545454545,
          68.9047619047619,
          75.2,
          87.59,
          87.0714285714286,
          94.5,
          101.760869565217,
          109.55,
          119.586956521739,
          93.5,
          92.2619047619048,
          88.5869565217391,
          82.9047619047619,
          90.9772727272727,
          95.2173913043478,
          87.625,
          88.6590909090909,
          83.75,
          91.3333333333333,
          103.340909090909,
          108.021739130435,
          120.071428571429,
          123,
          119.25,
          123.52380952381,
          153.065217391304,
          166.738095238095,
          162.325,
          166.739130434783,
          178.25,
          202.857142857143,
          215.815789473684,
          214.340909090909,
          162.090909090909,
          113.71875,
          114.47619047619,
          90.1315789473684,
          null,
          null,
          null,
          null,
          null,
          null
         ],
         "yaxis": "y"
        }
       ],
       "layout": {
        "legend": {
         "title": {
          "text": "variable"
         },
         "tracegroupgap": 0
        },
        "margin": {
         "t": 60
        },
        "template": {
         "data": {
          "bar": [
           {
            "error_x": {
             "color": "#2a3f5f"
            },
            "error_y": {
             "color": "#2a3f5f"
            },
            "marker": {
             "line": {
              "color": "#E5ECF6",
              "width": 0.5
             },
             "pattern": {
              "fillmode": "overlay",
              "size": 10,
              "solidity": 0.2
             }
            },
            "type": "bar"
           }
          ],
          "barpolar": [
           {
            "marker": {
             "line": {
              "color": "#E5ECF6",
              "width": 0.5
             },
             "pattern": {
              "fillmode": "overlay",
              "size": 10,
              "solidity": 0.2
             }
            },
            "type": "barpolar"
           }
          ],
          "carpet": [
           {
            "aaxis": {
             "endlinecolor": "#2a3f5f",
             "gridcolor": "white",
             "linecolor": "white",
             "minorgridcolor": "white",
             "startlinecolor": "#2a3f5f"
            },
            "baxis": {
             "endlinecolor": "#2a3f5f",
             "gridcolor": "white",
             "linecolor": "white",
             "minorgridcolor": "white",
             "startlinecolor": "#2a3f5f"
            },
            "type": "carpet"
           }
          ],
          "choropleth": [
           {
            "colorbar": {
             "outlinewidth": 0,
             "ticks": ""
            },
            "type": "choropleth"
           }
          ],
          "contour": [
           {
            "colorbar": {
             "outlinewidth": 0,
             "ticks": ""
            },
            "colorscale": [
             [
              0,
              "#0d0887"
             ],
             [
              0.1111111111111111,
              "#46039f"
             ],
             [
              0.2222222222222222,
              "#7201a8"
             ],
             [
              0.3333333333333333,
              "#9c179e"
             ],
             [
              0.4444444444444444,
              "#bd3786"
             ],
             [
              0.5555555555555556,
              "#d8576b"
             ],
             [
              0.6666666666666666,
              "#ed7953"
             ],
             [
              0.7777777777777778,
              "#fb9f3a"
             ],
             [
              0.8888888888888888,
              "#fdca26"
             ],
             [
              1,
              "#f0f921"
             ]
            ],
            "type": "contour"
           }
          ],
          "contourcarpet": [
           {
            "colorbar": {
             "outlinewidth": 0,
             "ticks": ""
            },
            "type": "contourcarpet"
           }
          ],
          "heatmap": [
           {
            "colorbar": {
             "outlinewidth": 0,
             "ticks": ""
            },
            "colorscale": [
             [
              0,
              "#0d0887"
             ],
             [
              0.1111111111111111,
              "#46039f"
             ],
             [
              0.2222222222222222,
              "#7201a8"
             ],
             [
              0.3333333333333333,
              "#9c179e"
             ],
             [
              0.4444444444444444,
              "#bd3786"
             ],
             [
              0.5555555555555556,
              "#d8576b"
             ],
             [
              0.6666666666666666,
              "#ed7953"
             ],
             [
              0.7777777777777778,
              "#fb9f3a"
             ],
             [
              0.8888888888888888,
              "#fdca26"
             ],
             [
              1,
              "#f0f921"
             ]
            ],
            "type": "heatmap"
           }
          ],
          "heatmapgl": [
           {
            "colorbar": {
             "outlinewidth": 0,
             "ticks": ""
            },
            "colorscale": [
             [
              0,
              "#0d0887"
             ],
             [
              0.1111111111111111,
              "#46039f"
             ],
             [
              0.2222222222222222,
              "#7201a8"
             ],
             [
              0.3333333333333333,
              "#9c179e"
             ],
             [
              0.4444444444444444,
              "#bd3786"
             ],
             [
              0.5555555555555556,
              "#d8576b"
             ],
             [
              0.6666666666666666,
              "#ed7953"
             ],
             [
              0.7777777777777778,
              "#fb9f3a"
             ],
             [
              0.8888888888888888,
              "#fdca26"
             ],
             [
              1,
              "#f0f921"
             ]
            ],
            "type": "heatmapgl"
           }
          ],
          "histogram": [
           {
            "marker": {
             "pattern": {
              "fillmode": "overlay",
              "size": 10,
              "solidity": 0.2
             }
            },
            "type": "histogram"
           }
          ],
          "histogram2d": [
           {
            "colorbar": {
             "outlinewidth": 0,
             "ticks": ""
            },
            "colorscale": [
             [
              0,
              "#0d0887"
             ],
             [
              0.1111111111111111,
              "#46039f"
             ],
             [
              0.2222222222222222,
              "#7201a8"
             ],
             [
              0.3333333333333333,
              "#9c179e"
             ],
             [
              0.4444444444444444,
              "#bd3786"
             ],
             [
              0.5555555555555556,
              "#d8576b"
             ],
             [
              0.6666666666666666,
              "#ed7953"
             ],
             [
              0.7777777777777778,
              "#fb9f3a"
             ],
             [
              0.8888888888888888,
              "#fdca26"
             ],
             [
              1,
              "#f0f921"
             ]
            ],
            "type": "histogram2d"
           }
          ],
          "histogram2dcontour": [
           {
            "colorbar": {
             "outlinewidth": 0,
             "ticks": ""
            },
            "colorscale": [
             [
              0,
              "#0d0887"
             ],
             [
              0.1111111111111111,
              "#46039f"
             ],
             [
              0.2222222222222222,
              "#7201a8"
             ],
             [
              0.3333333333333333,
              "#9c179e"
             ],
             [
              0.4444444444444444,
              "#bd3786"
             ],
             [
              0.5555555555555556,
              "#d8576b"
             ],
             [
              0.6666666666666666,
              "#ed7953"
             ],
             [
              0.7777777777777778,
              "#fb9f3a"
             ],
             [
              0.8888888888888888,
              "#fdca26"
             ],
             [
              1,
              "#f0f921"
             ]
            ],
            "type": "histogram2dcontour"
           }
          ],
          "mesh3d": [
           {
            "colorbar": {
             "outlinewidth": 0,
             "ticks": ""
            },
            "type": "mesh3d"
           }
          ],
          "parcoords": [
           {
            "line": {
             "colorbar": {
              "outlinewidth": 0,
              "ticks": ""
             }
            },
            "type": "parcoords"
           }
          ],
          "pie": [
           {
            "automargin": true,
            "type": "pie"
           }
          ],
          "scatter": [
           {
            "fillpattern": {
             "fillmode": "overlay",
             "size": 10,
             "solidity": 0.2
            },
            "type": "scatter"
           }
          ],
          "scatter3d": [
           {
            "line": {
             "colorbar": {
              "outlinewidth": 0,
              "ticks": ""
             }
            },
            "marker": {
             "colorbar": {
              "outlinewidth": 0,
              "ticks": ""
             }
            },
            "type": "scatter3d"
           }
          ],
          "scattercarpet": [
           {
            "marker": {
             "colorbar": {
              "outlinewidth": 0,
              "ticks": ""
             }
            },
            "type": "scattercarpet"
           }
          ],
          "scattergeo": [
           {
            "marker": {
             "colorbar": {
              "outlinewidth": 0,
              "ticks": ""
             }
            },
            "type": "scattergeo"
           }
          ],
          "scattergl": [
           {
            "marker": {
             "colorbar": {
              "outlinewidth": 0,
              "ticks": ""
             }
            },
            "type": "scattergl"
           }
          ],
          "scattermapbox": [
           {
            "marker": {
             "colorbar": {
              "outlinewidth": 0,
              "ticks": ""
             }
            },
            "type": "scattermapbox"
           }
          ],
          "scatterpolar": [
           {
            "marker": {
             "colorbar": {
              "outlinewidth": 0,
              "ticks": ""
             }
            },
            "type": "scatterpolar"
           }
          ],
          "scatterpolargl": [
           {
            "marker": {
             "colorbar": {
              "outlinewidth": 0,
              "ticks": ""
             }
            },
            "type": "scatterpolargl"
           }
          ],
          "scatterternary": [
           {
            "marker": {
             "colorbar": {
              "outlinewidth": 0,
              "ticks": ""
             }
            },
            "type": "scatterternary"
           }
          ],
          "surface": [
           {
            "colorbar": {
             "outlinewidth": 0,
             "ticks": ""
            },
            "colorscale": [
             [
              0,
              "#0d0887"
             ],
             [
              0.1111111111111111,
              "#46039f"
             ],
             [
              0.2222222222222222,
              "#7201a8"
             ],
             [
              0.3333333333333333,
              "#9c179e"
             ],
             [
              0.4444444444444444,
              "#bd3786"
             ],
             [
              0.5555555555555556,
              "#d8576b"
             ],
             [
              0.6666666666666666,
              "#ed7953"
             ],
             [
              0.7777777777777778,
              "#fb9f3a"
             ],
             [
              0.8888888888888888,
              "#fdca26"
             ],
             [
              1,
              "#f0f921"
             ]
            ],
            "type": "surface"
           }
          ],
          "table": [
           {
            "cells": {
             "fill": {
              "color": "#EBF0F8"
             },
             "line": {
              "color": "white"
             }
            },
            "header": {
             "fill": {
              "color": "#C8D4E3"
             },
             "line": {
              "color": "white"
             }
            },
            "type": "table"
           }
          ]
         },
         "layout": {
          "annotationdefaults": {
           "arrowcolor": "#2a3f5f",
           "arrowhead": 0,
           "arrowwidth": 1
          },
          "autotypenumbers": "strict",
          "coloraxis": {
           "colorbar": {
            "outlinewidth": 0,
            "ticks": ""
           }
          },
          "colorscale": {
           "diverging": [
            [
             0,
             "#8e0152"
            ],
            [
             0.1,
             "#c51b7d"
            ],
            [
             0.2,
             "#de77ae"
            ],
            [
             0.3,
             "#f1b6da"
            ],
            [
             0.4,
             "#fde0ef"
            ],
            [
             0.5,
             "#f7f7f7"
            ],
            [
             0.6,
             "#e6f5d0"
            ],
            [
             0.7,
             "#b8e186"
            ],
            [
             0.8,
             "#7fbc41"
            ],
            [
             0.9,
             "#4d9221"
            ],
            [
             1,
             "#276419"
            ]
           ],
           "sequential": [
            [
             0,
             "#0d0887"
            ],
            [
             0.1111111111111111,
             "#46039f"
            ],
            [
             0.2222222222222222,
             "#7201a8"
            ],
            [
             0.3333333333333333,
             "#9c179e"
            ],
            [
             0.4444444444444444,
             "#bd3786"
            ],
            [
             0.5555555555555556,
             "#d8576b"
            ],
            [
             0.6666666666666666,
             "#ed7953"
            ],
            [
             0.7777777777777778,
             "#fb9f3a"
            ],
            [
             0.8888888888888888,
             "#fdca26"
            ],
            [
             1,
             "#f0f921"
            ]
           ],
           "sequentialminus": [
            [
             0,
             "#0d0887"
            ],
            [
             0.1111111111111111,
             "#46039f"
            ],
            [
             0.2222222222222222,
             "#7201a8"
            ],
            [
             0.3333333333333333,
             "#9c179e"
            ],
            [
             0.4444444444444444,
             "#bd3786"
            ],
            [
             0.5555555555555556,
             "#d8576b"
            ],
            [
             0.6666666666666666,
             "#ed7953"
            ],
            [
             0.7777777777777778,
             "#fb9f3a"
            ],
            [
             0.8888888888888888,
             "#fdca26"
            ],
            [
             1,
             "#f0f921"
            ]
           ]
          },
          "colorway": [
           "#636efa",
           "#EF553B",
           "#00cc96",
           "#ab63fa",
           "#FFA15A",
           "#19d3f3",
           "#FF6692",
           "#B6E880",
           "#FF97FF",
           "#FECB52"
          ],
          "font": {
           "color": "#2a3f5f"
          },
          "geo": {
           "bgcolor": "white",
           "lakecolor": "white",
           "landcolor": "#E5ECF6",
           "showlakes": true,
           "showland": true,
           "subunitcolor": "white"
          },
          "hoverlabel": {
           "align": "left"
          },
          "hovermode": "closest",
          "mapbox": {
           "style": "light"
          },
          "paper_bgcolor": "white",
          "plot_bgcolor": "#E5ECF6",
          "polar": {
           "angularaxis": {
            "gridcolor": "white",
            "linecolor": "white",
            "ticks": ""
           },
           "bgcolor": "#E5ECF6",
           "radialaxis": {
            "gridcolor": "white",
            "linecolor": "white",
            "ticks": ""
           }
          },
          "scene": {
           "xaxis": {
            "backgroundcolor": "#E5ECF6",
            "gridcolor": "white",
            "gridwidth": 2,
            "linecolor": "white",
            "showbackground": true,
            "ticks": "",
            "zerolinecolor": "white"
           },
           "yaxis": {
            "backgroundcolor": "#E5ECF6",
            "gridcolor": "white",
            "gridwidth": 2,
            "linecolor": "white",
            "showbackground": true,
            "ticks": "",
            "zerolinecolor": "white"
           },
           "zaxis": {
            "backgroundcolor": "#E5ECF6",
            "gridcolor": "white",
            "gridwidth": 2,
            "linecolor": "white",
            "showbackground": true,
            "ticks": "",
            "zerolinecolor": "white"
           }
          },
          "shapedefaults": {
           "line": {
            "color": "#2a3f5f"
           }
          },
          "ternary": {
           "aaxis": {
            "gridcolor": "white",
            "linecolor": "white",
            "ticks": ""
           },
           "baxis": {
            "gridcolor": "white",
            "linecolor": "white",
            "ticks": ""
           },
           "bgcolor": "#E5ECF6",
           "caxis": {
            "gridcolor": "white",
            "linecolor": "white",
            "ticks": ""
           }
          },
          "title": {
           "x": 0.05
          },
          "xaxis": {
           "automargin": true,
           "gridcolor": "white",
           "linecolor": "white",
           "ticks": "",
           "title": {
            "standoff": 15
           },
           "zerolinecolor": "white",
           "zerolinewidth": 2
          },
          "yaxis": {
           "automargin": true,
           "gridcolor": "white",
           "linecolor": "white",
           "ticks": "",
           "title": {
            "standoff": 15
           },
           "zerolinecolor": "white",
           "zerolinewidth": 2
          }
         }
        },
        "xaxis": {
         "anchor": "y",
         "domain": [
          0,
          1
         ],
         "title": {
          "text": "index"
         }
        },
        "yaxis": {
         "anchor": "x",
         "domain": [
          0,
          1
         ],
         "title": {
          "text": "value"
         }
        }
       }
      }
     },
     "metadata": {},
     "output_type": "display_data"
    }
   ],
   "source": [
    "from commodities import *\n",
    "import plotly.express as px\n",
    "c = Commodity()\n",
    "\n",
    "group = pd.DataFrame({\"Metal Index\":c.metal_index(observation_start='01/01/2016')['Price'], \"Iron Ore\": c.iron_ore(observation_start='01/01/2016')['Price']})\n",
    "fig = px.line(group)\n",
    "fig.show()"
   ]
  },
  {
   "cell_type": "code",
   "execution_count": null,
   "metadata": {},
   "outputs": [],
   "source": [
    "from exchange_rate import *\n",
    "import plotly.express as px\n",
    "a = SpotRate()\n",
    "fig = px.line(a.SF_USD(True, '01/01/2013')).update_layout(title='Francs to USD$', legend_title='', title_font_family=\"Raleway\")\n",
    "fig.update_xaxes(title='', rangeselector_font_family=\"Times New Roman\",rangeslider_visible=False,rangeselector=dict(buttons=list([dict(count=1, label=\"1m\", step=\"month\", stepmode=\"backward\"), dict(count=6, label=\"6m\", step=\"month\", stepmode=\"backward\"), dict(count=1, label=\"YTD\", step=\"year\", stepmode=\"todate\"), dict(count=1, label=\"1y\", step=\"year\", stepmode=\"backward\"), dict(step=\"all\")])))#.update_yaxes(title='Canadian Dollars to One U.S. Dollar')\n",
    "fig.show()"
   ]
  },
  {
   "cell_type": "code",
   "execution_count": 11,
   "metadata": {},
   "outputs": [
    {
     "name": "stdout",
     "output_type": "stream",
     "text": [
      "AxesSubplot(0.125,0.125;0.775x0.755)\n"
     ]
    },
    {
     "data": {
      "image/png": "[encoded data removed]",
      "text/plain": [
       "<Figure size 432x288 with 1 Axes>"
      ]
     },
     "metadata": {
      "needs_background": "light"
     },
     "output_type": "display_data"
    }
   ],
   "source": [
    "from business_expectations import *\n",
    "\n",
    "x = BusinessUncertainty().sales_revenue_growth().tail(12)\n",
    "y = BusinessUncertainty().employment_growth().tail(12)\n",
    "df = pd.DataFrame({\"Sales Revenue Growth\":x['Percent'],\"Employment Growth\":y['Percent']})\n",
    "print(df.plot())\n"
   ]
  },
  {
   "cell_type": "code",
   "execution_count": 14,
   "metadata": {},
   "outputs": [
    {
     "data": {
      "text/plain": [
       "9"
      ]
     },
     "execution_count": 14,
     "metadata": {},
     "output_type": "execute_result"
    }
   ],
   "source": [
    "def foo(a=None, b=None):\n",
    "    if a == None and b == None:\n",
    "        return 5*5\n",
    "    else:\n",
    "        return a*b\n",
    "foo(3,3) "
   ]
  }
 ],
 "metadata": {
  "kernelspec": {
   "display_name": "Python 3.9.7 64-bit",
   "language": "python",
   "name": "python3"
  },
  "language_info": {
   "codemirror_mode": {
    "name": "ipython",
    "version": 3
   },
   "file_extension": ".py",
   "mimetype": "text/x-python",
   "name": "python",
   "nbconvert_exporter": "python",
   "pygments_lexer": "ipython3",
   "version": "3.9.7"
  },
  "orig_nbformat": 4,
  "vscode": {
   "interpreter": {
    "hash": "aee8b7b246df8f9039afb4144a1f6fd8d2ca17a180786b69acc140d282b71a49"
   }
  }
 },
 "nbformat": 4,
 "nbformat_minor": 2
}
